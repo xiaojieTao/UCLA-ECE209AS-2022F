{
  "nbformat": 4,
  "nbformat_minor": 0,
  "metadata": {
    "colab": {
      "provenance": [],
      "collapsed_sections": [],
      "authorship_tag": "ABX9TyPxDghGv2PCmoqpZnaHDbHF",
      "include_colab_link": true
    },
    "kernelspec": {
      "name": "python3",
      "display_name": "Python 3"
    },
    "language_info": {
      "name": "python"
    }
  },
  "cells": [
    {
      "cell_type": "markdown",
      "metadata": {
        "id": "view-in-github",
        "colab_type": "text"
      },
      "source": [
        "<a href=\"https://colab.research.google.com/github/xiaojieTao/UCLA-ECE209AS-2022F/blob/main/gridworld.ipynb\" target=\"_parent\"><img src=\"https://colab.research.google.com/assets/colab-badge.svg\" alt=\"Open In Colab\"/></a>"
      ]
    },
    {
      "cell_type": "code",
      "execution_count": null,
      "metadata": {
        "id": "E0vJT5FHZTpb"
      },
      "outputs": [],
      "source": [
        "import numpy as np"
      ]
    },
    {
      "cell_type": "markdown",
      "source": [
        "Now start running the cells sequentially (by `ctrl + enter` or `shift + enter`) to avoid unnecessary errors by skipping some cells. \n",
        "\n",
        "## Section 1: Westwood Gridworld Environment\n",
        "\n",
        "In this section, we build the Westwood Gridworld environment, with which we can solve using MDP in Section 2.\n",
        "\n",
        "Every Westwood Gridworld environment should contain the following attributes:\n",
        "\n",
        "1. `env.action_space`\n",
        "2. `env.observation_space`\n",
        "3. `env.P` The transition probabilities matrix. "
      ],
      "metadata": {
        "id": "P47N_qyPans1"
      }
    },
    {
      "cell_type": "code",
      "source": [
        "# Action Space\n",
        "# - 0: LEFT\n",
        "# - 1: DOWN\n",
        "# - 2: RIGHT\n",
        "# - 3: UP\n",
        "# - 4: WAIT\n",
        "LEFT = 0\n",
        "DOWN = 1\n",
        "RIGHT = 2\n",
        "UP = 3\n",
        "WAIT = 4\n",
        "\n",
        "# Define WestwoodGridworld class.\n",
        "class WestwoodGridworld:\n",
        "    def __init__(self):\n",
        "        # Row and column size of the gridworld.\n",
        "        self.nrow = 5\n",
        "        self.ncol = 5\n",
        "\n",
        "        # Size of the action space and state space.\n",
        "        self.nA = 5\n",
        "        self.nS = self.nrow * self.ncol\n",
        "\n",
        "        # desc represents the map of the WestwoodGridworld.\n",
        "        # Row 0 through row 4.\n",
        "        self.desc=[\"PPPPW\", \"PBBPW\", \"PPDPW\", \"PBBPW\",\"PPSPW\"]\n",
        "        self.desc = np.asarray(self.desc, dtype=\"c\")\n",
        "\n",
        "        # Letter represents the nature of each state.\n",
        "        # 'D' = Diddy-Riese state\n",
        "        # 'S' = Saffron-Rose state\n",
        "        # 'W' = Westwood Boulevard state\n",
        "        # 'B' = Obstacle state\n",
        "        # 'P' = Pavement state\n",
        "\n",
        "\n",
        "        # Assign reward to each state.\n",
        "        self.rewardOfStates = {\n",
        "            b\"D\": 1.0,\n",
        "            b\"S\": 10.0,\n",
        "            b\"W\": -10.0,\n",
        "            b\"B\": 0,\n",
        "            b\"P\": 0\n",
        "        }\n",
        "\n",
        "        # pe: probability of noisy transition.\n",
        "        self.pe = 0.2\n",
        "\n",
        "        # P is the transition probabilities of each pair of state and action.\n",
        "        # For each pair of state and action, P[state][action] is a list of transitions,\n",
        "        # each transition is a list consists of prob, next_state, and reward.\n",
        "        self.P = {state: {action: [] for action in range(self.nA)} for state in range(self.nS)}\n",
        "\n",
        "        # Initialize the transition probabilities matrix P.\n",
        "        self.computeP()\n",
        "\n",
        "    # Compute the transition probabilities matrix P.        \n",
        "    def computeP(self):\n",
        "        for row in range(self.nrow):\n",
        "            for col in range (self.ncol):\n",
        "\n",
        "                # When the robot chooses to move, it has a chance of error pe.\n",
        "                s = self.to_s(row, col)\n",
        "\n",
        "                for a in range(4):\n",
        "                    li = self.P[s][a]\n",
        "                    dynamics = self.update_probability_matrix(row, col, a)\n",
        "                    \n",
        "                    # Append a list with prob, next_state, and reward.\n",
        "                    li.append(\n",
        "                        ((1-self.pe) * dynamics[0], dynamics[1], dynamics[2])\n",
        "                    )\n",
        "                    for b in [(a-1)%4, (a+1)%4, (a+2)%4, 4]:\n",
        "                        dynamics = self.update_probability_matrix(row, col, b)\n",
        "                        li.append(\n",
        "                        ((self.pe/4) * dynamics[0], dynamics[1], dynamics[2])\n",
        "                    )\n",
        "                        \n",
        "                # When the robot chooses to wait (the last action), it always end up waiting.\n",
        "                li = self.P[s][4]\n",
        "                dynamics = self.update_probability_matrix(row, col, 4)\n",
        "                li.append(\n",
        "                    (dynamics[0], dynamics[1], dynamics[2])\n",
        "                )\n",
        "\n",
        "    def to_s(self, row, col):\n",
        "        return row * self.ncol + col\n",
        "\n",
        "    def inc(self, row, col, a):\n",
        "        if self.desc[row, col] == b'B':\n",
        "            return (row, col)\n",
        "\n",
        "        ROW = row\n",
        "        COL = col\n",
        "\n",
        "        if a == LEFT: \n",
        "            col = max(col - 1, 0)\n",
        "        elif a == DOWN:\n",
        "            row = min(row + 1, self.nrow - 1)\n",
        "        elif a == RIGHT:\n",
        "            col = min(col + 1, self.ncol - 1)\n",
        "        elif a == UP:\n",
        "            row = max(row - 1, 0)\n",
        "\n",
        "        if self.desc[row, col] == b'B':\n",
        "            row = ROW\n",
        "            col = COL\n",
        "\n",
        "        return (row, col)\n",
        "\n",
        "    def update_probability_matrix(self, row, col, action):\n",
        "        newrow, newcol = self.inc(row, col, action)\n",
        "        newstate = self.to_s(newrow, newcol)\n",
        "        letter = self.desc[row, col]\n",
        "        newletter = self.desc[newrow, newcol]\n",
        "        reward = self.rewardOfStates[letter]\n",
        "        prob = 1.0\n",
        "\n",
        "        return prob, newstate, reward"
      ],
      "metadata": {
        "id": "l4uTyAATPSCe"
      },
      "execution_count": null,
      "outputs": []
    },
    {
      "cell_type": "markdown",
      "source": [
        "## Section 2: Compute Optimal Policy"
      ],
      "metadata": {
        "id": "vjU3W6oONK7u"
      }
    },
    {
      "cell_type": "code",
      "source": [
        "class TabularRLTrainerAbstract:\n",
        "    \"\"\"This is the abstract class for tabular RL trainer. We will inherent the specify \n",
        "    algorithm's trainer from this abstract class, so that we can reuse the codes like\n",
        "    getting the dynamic of the environment (self._get_transitions()) \"\"\"\n",
        "    def __init__(self):\n",
        "        self.env = WestwoodGridworld()\n",
        "        self.action_dim = 5\n",
        "        self.obs_dim = 25\n",
        "\n",
        "    def _get_transitions(self, state, act):\n",
        "        \"\"\"Query the environment to get the transition probability, \n",
        "        the next state, and reward given a pair of state and action.\n",
        "        \"\"\"\n",
        "        transitions = self.env.P[state][act]\n",
        "        ret = []\n",
        "        for prob, next_state, reward in transitions:\n",
        "            ret.append({\n",
        "                \"prob\": prob,\n",
        "                \"next_state\": next_state,\n",
        "                \"reward\": reward\n",
        "            })\n",
        "        return ret\n",
        "\n",
        "    def train(self):\n",
        "        \"\"\"Conduct one iteration of learning.\"\"\"\n",
        "        raise NotImplementedError(\"You need to override the \"\n",
        "                                    \"Trainer.train() function.\")"
      ],
      "metadata": {
        "id": "E8aWlV2gqbU-"
      },
      "execution_count": null,
      "outputs": []
    },
    {
      "cell_type": "markdown",
      "source": [
        "### Section 2.1: Policy Iteration\n",
        "\n",
        "Recall the process of policy iteration: \n",
        "\n",
        "1. Update the state value function, given all possible transitions at current state of the environment.\n",
        "2. Find the best policy that earns highest value under current state value function.\n",
        "3. If the best policy is identical to the previous one then stop the training. Otherwise, return to step 1.\n",
        "\n",
        "In step 1, the way to update the state value function is by \n",
        "\n",
        "$$v_{k+1} = E_{s'}[r(s, a)+\\gamma v_{k}(s')]$$\n",
        "\n",
        "wherein the $a$ is given by current policy, $s'$ is next state, $r$ is the reward, $v_{k}(s')$ is the next state value given by the old (not updated yet) value function. The expectation is computed among all possible transitions (given a state and action pair, it is possible to have many different next states, since the environment is not deterministic).\n",
        "\n",
        "In step 2, the best policy is the one that takes the action with maximal expected return given a state:\n",
        "\n",
        "$$a = {argmax}_a E_{s'}[r(s, a) + \\gamma v_{k}(s')]$$\n",
        "\n",
        "Policy iteration algorithm has an outer loop (update policy, step 1 to 3) and an inner loop (fit the value function, within step 1). \n",
        "\n",
        "In each outer loop, we call once `trainer.train()`, where we call `trainer.update_value_function()` once to update the value function (the state value table). \n",
        "\n",
        "After that we call `trainer.update_policy()` to update the current policy. \n",
        "\n",
        "`trainer` object has a `trainer.policy` attribute, which is a function that takes observation as input and returns an action."
      ],
      "metadata": {
        "id": "N9RTdU6qtttH"
      }
    },
    {
      "cell_type": "code",
      "source": [
        "class PolicyItertaionTrainer(TabularRLTrainerAbstract):\n",
        "    def __init__(self, gamma=1.0, eps=1e-10):\n",
        "        super(PolicyItertaionTrainer, self).__init__()\n",
        "        # discount factor\n",
        "        self.gamma = gamma\n",
        "\n",
        "        # value function convergence criterion\n",
        "        self.eps = eps\n",
        "\n",
        "        # build the value table for each possible observation\n",
        "        self.table = np.zeros((self.obs_dim,))\n",
        "\n",
        "        # A random policy at the beginning.\n",
        "        self.policy = lambda x : 1\n",
        "\n",
        "    def train(self):\n",
        "        \"\"\"Conduct one iteration of learning.\"\"\"\n",
        "\n",
        "        self.update_value_function()\n",
        "        self.update_policy()\n",
        "\n",
        "    def update_value_function(self):\n",
        "        while True:\n",
        "            old_table = self.table.copy()\n",
        "\n",
        "            for state in range(self.obs_dim):\n",
        "                act = self.policy(state)\n",
        "                transition_list = self._get_transitions(state, act)\n",
        "                \n",
        "                state_value = 0\n",
        "                for transition in transition_list:\n",
        "                    prob = transition['prob']\n",
        "                    reward = transition['reward']\n",
        "                    next_state = transition['next_state']\n",
        "                    state_value += prob * (reward+self.gamma*old_table[next_state])\n",
        "\n",
        "                # update the state value\n",
        "                self.table[state] = state_value\n",
        "\n",
        "            # Compare the old_table and current table to\n",
        "            # decide whether to break the value update process.\n",
        "            should_break = np.sum(np.abs((old_table)-(self.table))) < self.eps\n",
        "\n",
        "            if should_break:\n",
        "                break\n",
        "\n",
        "    def update_policy(self):\n",
        "        \"\"\"To define a new policy function, given current value function. \n",
        "        The best action for a given state is the one that has greatest expected return.\n",
        "\n",
        "        To optimize computing efficiency, we introduce a policy table,\n",
        "        which take state as index and return the action given a state.\n",
        "        \"\"\"\n",
        "        policy_table = np.zeros([self.obs_dim, ], dtype=np.int)\n",
        "\n",
        "        for state in range(self.obs_dim):\n",
        "            state_action_values = [0] * self.action_dim\n",
        "\n",
        "            # Assign the action with greatest \"value\"\n",
        "            # to policy_table[state]\n",
        "            for action in range(self.action_dim):\n",
        "                transitions_list = self._get_transitions(state, action)\n",
        "                state_action_value = 0\n",
        "                for transition in transitions_list:\n",
        "                    prob = transition['prob']\n",
        "                    reward = transition['reward']\n",
        "                    next_state = transition['next_state']\n",
        "                    state_action_value += prob*(reward+self.gamma*self.table[next_state])\n",
        "                state_action_values[action]=state_action_value\n",
        "            best_action = np.argmax(np.asarray(state_action_values))\n",
        "            policy_table[state] = best_action\n",
        "\n",
        "        self.policy = lambda obs: policy_table[obs]"
      ],
      "metadata": {
        "id": "VtlbPOaGtXoZ"
      },
      "execution_count": null,
      "outputs": []
    },
    {
      "cell_type": "code",
      "source": [
        "# Managing configurations of the experiments.\n",
        "default_pi_config = dict(\n",
        "    max_iteration=1000,\n",
        "    evaluate_interval=1,\n",
        "    gamma=0.8,\n",
        "    eps=1e-10\n",
        ")\n",
        "def policy_iteration(train_config=None):\n",
        "    config = default_pi_config.copy()\n",
        "    trainer = PolicyItertaionTrainer(gamma=config['gamma'], eps=config['eps'])\n",
        "\n",
        "    old_policy_result = {\n",
        "        obs: -1 for obs in range(trainer.obs_dim)\n",
        "    }\n",
        "\n",
        "    for i in range(config['max_iteration']):\n",
        "        # train the agent\n",
        "        trainer.train()\n",
        "\n",
        "        # Compare the new policy with old policy to check whether\n",
        "        #  should we stop. If new and old policy have same output given any\n",
        "        #  observation, them we consider the algorithm is converged and\n",
        "        #  should be stopped.\n",
        "        new_policy_result = {\n",
        "            obs: trainer.policy(obs) for obs in range(trainer.obs_dim)\n",
        "        }\n",
        "        should_stop = old_policy_result == new_policy_result\n",
        "        \n",
        "        if should_stop:\n",
        "            print(\"We found policy is not changed anymore at \"\n",
        "                  \"itertaion {}.\".format(i))\n",
        "            break\n",
        "        old_policy_result = new_policy_result\n",
        "\n",
        "    return trainer"
      ],
      "metadata": {
        "id": "4llBu-Nwuc1c"
      },
      "execution_count": null,
      "outputs": []
    },
    {
      "cell_type": "code",
      "source": [
        "# It may be confusing to call a trainer agent. But that's what we normally do.\n",
        "pi_agent = policy_iteration()"
      ],
      "metadata": {
        "id": "3yfWcsRXvqf1"
      },
      "execution_count": null,
      "outputs": []
    },
    {
      "cell_type": "code",
      "source": [
        "import matplotlib.pyplot as plt\n",
        "\n",
        "harvest = pi_agent.table.reshape((5,5))\n",
        "harvest1 = np.around(harvest,1)\n",
        "\n",
        "fig, ax = plt.subplots()\n",
        "# Plot the heatmap.\n",
        "im = ax.imshow(harvest, interpolation=\"nearest\")\n",
        "\n",
        "# Create colorbar.\n",
        "fig.colorbar(im, ax=ax)\n",
        "\n",
        "# Loop over data dimensions and create text annotations.\n",
        "for i in range(5):\n",
        "    for j in range(5):\n",
        "        text = ax.text(j, i, harvest1[i, j],\n",
        "                       ha=\"center\", va=\"center\", color=\"w\")\n",
        "\n",
        "ax.set_title(\"State-value heatmap:\")\n",
        "plt.show()"
      ],
      "metadata": {
        "colab": {
          "base_uri": "https://localhost:8080/",
          "height": 281
        },
        "id": "9OjuZSiu8PXI",
        "outputId": "c3a22f0d-55f4-4b74-dc78-24ef682e36bf"
      },
      "execution_count": null,
      "outputs": [
        {
          "output_type": "display_data",
          "data": {
            "text/plain": [
              "<Figure size 432x288 with 2 Axes>"
            ],
            "image/png": "[encoded data removed]"
          },
          "metadata": {
            "needs_background": "light"
          }
        }
      ]
    },
    {
      "cell_type": "code",
      "source": [],
      "metadata": {
        "id": "VzM3ck9N_STP"
      },
      "execution_count": null,
      "outputs": []
    }
  ]
}